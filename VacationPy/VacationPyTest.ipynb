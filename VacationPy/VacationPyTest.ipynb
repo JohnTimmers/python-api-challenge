{
 "metadata": {
  "language_info": {
   "codemirror_mode": {
    "name": "ipython",
    "version": 3
   },
   "file_extension": ".py",
   "mimetype": "text/x-python",
   "name": "python",
   "nbconvert_exporter": "python",
   "pygments_lexer": "ipython3",
   "version": "3.6.10"
  },
  "orig_nbformat": 2,
  "kernelspec": {
   "name": "python3610jvsc74a57bd066e1e1fe36c9fe72e225d3c3a508f4a0bbe0e244a803226d5df66adcdefd8262",
   "display_name": "Python 3.6.10 64-bit ('PythonData': conda)"
  }
 },
 "nbformat": 4,
 "nbformat_minor": 2,
 "cells": [
  {
   "source": [
    "## Load dependencies and csv from part 1"
   ],
   "cell_type": "markdown",
   "metadata": {}
  },
  {
   "cell_type": "code",
   "execution_count": 1,
   "metadata": {},
   "outputs": [
    {
     "output_type": "stream",
     "name": "stdout",
     "text": [
      "556\n"
     ]
    }
   ],
   "source": [
    "import matplotlib.pyplot as plt\n",
    "import pandas as pd\n",
    "import numpy as np\n",
    "import requests\n",
    "import gmaps\n",
    "import os\n",
    "\n",
    "# get api key from environment variables\n",
    "g_key = os.environ.get('VACATION_API_KEY')\n",
    "\n",
    "# read csv from part 1 folder\n",
    "part1_weather_df = pd.read_csv(\"../WeatherPy/part1.csv\")\n",
    "print(len(part1_weather_df))"
   ]
  },
  {
   "cell_type": "code",
   "execution_count": 2,
   "metadata": {},
   "outputs": [
    {
     "output_type": "display_data",
     "data": {
      "text/plain": "Figure(layout=FigureLayout(height='420px'))",
      "application/vnd.jupyter.widget-view+json": {
       "version_major": 2,
       "version_minor": 0,
       "model_id": "55a11673521648298267cf4ec50ee6d8"
      }
     },
     "metadata": {}
    }
   ],
   "source": [
    "# authenticate with google maps\n",
    "gmaps.configure(api_key=str(g_key))\n",
    "\n",
    "# heat map requires three variables: lat, lng, and weight\n",
    "locations = part1_weather_df[['Lat', 'Lng']]\n",
    "weights = part1_weather_df['Humidity']\n",
    "fig = gmaps.figure()\n",
    "heatmap_layer = gmaps.heatmap_layer(locations, weights=weights)\n",
    "fig.add_layer(heatmap_layer)\n",
    "fig"
   ]
  },
  {
   "cell_type": "code",
   "execution_count": 5,
   "metadata": {},
   "outputs": [],
   "source": [
    "# adjusting heat map to better maintain weight when zoomed\n",
    "heatmap_layer.max_intensity = 100\n",
    "heatmap_layer.point_radius = 10"
   ]
  },
  {
   "source": [
    "## Remove cities with less than ideal weather parameters."
   ],
   "cell_type": "markdown",
   "metadata": {}
  },
  {
   "cell_type": "code",
   "execution_count": 8,
   "metadata": {},
   "outputs": [
    {
     "output_type": "stream",
     "name": "stdout",
     "text": [
      "8\n"
     ]
    }
   ],
   "source": [
    "# drop cities from DataFrame that do not have 'ideal' weather\n",
    "best_weather_df = part1_weather_df.drop(part1_weather_df[\n",
    "        (part1_weather_df[\"Max Temps\"] > 80) |\n",
    "        (part1_weather_df[\"Max Temps\"] < 70) |\n",
    "        (part1_weather_df[\"Cloudiness\"] > 5) |\n",
    "        (part1_weather_df[\"Wind Speed\"] > 5)].index)\n",
    "\n",
    "print(len(best_weather_df))"
   ]
  },
  {
   "cell_type": "code",
   "execution_count": 15,
   "metadata": {},
   "outputs": [],
   "source": [
    "# base url to use \"Nearby Search\" from Places API\n",
    "base_url = \"https://maps.googleapis.com/maps/api/place/nearbysearch/json?\"\n",
    "# search radius is 5000 meters from city coordinates\n",
    "radius = \"&radius=5000\"\n",
    "# only look for hotels\n",
    "type_param = \"&type=lodging\"\n",
    "api_key = \"&key=\"+str(g_key)\n",
    "hotel_names = []\n",
    "\n",
    "# for loop to build API call based on city coordinates\n",
    "# get first hotel result, and add to hotel_names list\n",
    "for index, row in best_weather_df.iterrows():\n",
    "    # get lat,lng for each row in best_weather_df\n",
    "    location = \"location=\"+str(row['Lat'])+\",\"+str(row['Lng'])\n",
    "    # build url based on location\n",
    "    URL = base_url+location+radius+type_param+api_key\n",
    "    # http request\n",
    "    response = requests.get(URL)\n",
    "    # get data in json format\n",
    "    data = response.json()\n",
    "    # if statement to drop cities if no hotel is nearby\n",
    "    if len(data['results']) == 0:\n",
    "        best_weather_df.drop(index, inplace=True)\n",
    "    else:    \n",
    "        # get the hotel name of the first result and add it to hotel_names list\n",
    "        hotel_names.append(data['results'][0]['name'])\n",
    "\n",
    "# add list of hotels to df\n",
    "best_weather_df['Hotel Nearby'] = hotel_names"
   ]
  },
  {
   "cell_type": "code",
   "execution_count": 18,
   "metadata": {},
   "outputs": [
    {
     "output_type": "stream",
     "name": "stdout",
     "text": [
      "7\n               City      Lat       Lng  Max Temps  Humidity  Cloudiness  \\\n76     santo angelo -28.2992  -54.2631       71.6        49           0   \n90        kununurra -15.7667  128.7333       78.8        65           0   \n189  saint-philippe -21.3585   55.7679       73.4        73           0   \n216  saint-francois  16.2526  -61.2741       75.2        88           0   \n351           pecos  31.4229 -103.4932       78.8        27           1   \n\n     Wind Speed Country        Date                             Hotel Nearby  \n76         4.61      br  1619915200          Hotel Nova Esperança Aberto 24h  \n90         4.61      au  1619915221                          Hotel Kununurra  \n189        4.61      re  1619915158             Chambres d'hôte \"La Trinité\"  \n216        3.44      gp  1619915410  La Cocoteraie - Guadeloupe (by Popinns)  \n351        3.44      us  1619915622                        Knights Inn Pecos  \n"
     ]
    }
   ],
   "source": [
    "# checkin code\n",
    "print(len(best_weather_df))\n",
    "print(best_weather_df.head())"
   ]
  },
  {
   "source": [
    "## Create a new gmaps figure that shows locations with most ideal weather and hotel nearby."
   ],
   "cell_type": "markdown",
   "metadata": {}
  },
  {
   "cell_type": "code",
   "execution_count": 17,
   "metadata": {},
   "outputs": [
    {
     "output_type": "display_data",
     "data": {
      "text/plain": "Figure(layout=FigureLayout(height='420px'))",
      "application/vnd.jupyter.widget-view+json": {
       "version_major": 2,
       "version_minor": 0,
       "model_id": "8e8a9fbf19ae42a3b3a4d84b31b363a5"
      }
     },
     "metadata": {}
    }
   ],
   "source": [
    "locations = best_weather_df[['Lat', 'Lng']]\n",
    "weights = best_weather_df['Humidity']\n",
    "\n",
    "vacation_info = []\n",
    "\n",
    "# make list of info boxes for marker layer\n",
    "for index, row in best_weather_df.iterrows():\n",
    "    vacation_info.append(\"<dl><dt><b>Location:</b> City, Country</dt><dd>\"+row['City'].capitalize()+\", \"+row['Country'].upper()+\"</dd><dt><b>Hotel Nearby:</b></dt><dd>\"+row['Hotel Nearby']+\"</dd></dl>\")\n",
    "\n",
    "# display figure with heat map and marker layers\n",
    "fig = gmaps.figure()\n",
    "marker_layer = gmaps.marker_layer(locations, info_box_content=vacation_info)\n",
    "heatmap_layer = gmaps.heatmap_layer(locations, weights=weights)\n",
    "fig.add_layer(heatmap_layer)\n",
    "fig.add_layer(marker_layer)\n",
    "fig"
   ]
  },
  {
   "cell_type": "code",
   "execution_count": null,
   "metadata": {},
   "outputs": [],
   "source": []
  }
 ]
}