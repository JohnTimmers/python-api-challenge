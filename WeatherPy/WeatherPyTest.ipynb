{
 "metadata": {
  "language_info": {
   "codemirror_mode": {
    "name": "ipython",
    "version": 3
   },
   "file_extension": ".py",
   "mimetype": "text/x-python",
   "name": "python",
   "nbconvert_exporter": "python",
   "pygments_lexer": "ipython3",
   "version": "3.6.10"
  },
  "orig_nbformat": 2,
  "kernelspec": {
   "name": "python3610jvsc74a57bd066e1e1fe36c9fe72e225d3c3a508f4a0bbe0e244a803226d5df66adcdefd8262",
   "display_name": "Python 3.6.10 64-bit ('PythonData': conda)"
  }
 },
 "nbformat": 4,
 "nbformat_minor": 2,
 "cells": [
  {
   "cell_type": "code",
   "execution_count": null,
   "metadata": {},
   "outputs": [],
   "source": [
    "# set up Dependencies\n",
    "import pandas as pd\n",
    "import numpy as np\n",
    "import requests\n",
    "import time\n",
    "import os\n",
    "import matplotlib.pyplot as plt\n",
    "from scipy.stats import linregress\n",
    "from citipy import citipy\n",
    "\n",
    "# import api key from environment variables\n",
    "weather_api_key = os.environ.get('WEATHER_API_KEY')\n",
    "\n",
    "# Range of latitudes and longitudes\n",
    "lat_range = (-90, 90)\n",
    "lng_range = (-180, 180)"
   ]
  },
  {
   "source": [
    "## Generate Cities List"
   ],
   "cell_type": "markdown",
   "metadata": {}
  },
  {
   "cell_type": "code",
   "execution_count": null,
   "metadata": {},
   "outputs": [],
   "source": [
    "# List for holding lat_lngs and cities\n",
    "lat_lngs = []\n",
    "cities = []\n",
    "\n",
    "# Create a set(set_size) of random lat and lng combinations\n",
    "set_size=250\n",
    "lats = np.random.uniform(lat_range[0], lat_range[1], size=set_size)\n",
    "lngs = np.random.uniform(lng_range[0], lng_range[1], size=set_size)\n",
    "lat_lngs = zip(lats, lngs)\n",
    "\n",
    "# Identify nearest city for each lat, lng combination\n",
    "for lat_lng in lat_lngs:\n",
    "    city = citipy.nearest_city(lat_lng[0], lat_lng[1])\n",
    "    \n",
    "    # If the city is unique, then add it to a our cities list\n",
    "    if city not in cities:\n",
    "        cities.append(city)\n",
    "\n",
    "# Print the city count to confirm sufficient count\n",
    "print(len(cities))"
   ]
  },
  {
   "source": [
    "### Perform API Calls\n",
    "* Perform a weather check on each city using a series of successive API calls.\n",
    "* Include a print log of each city as it's being processed (with the city number and city name)."
   ],
   "cell_type": "markdown",
   "metadata": {}
  },
  {
   "cell_type": "code",
   "execution_count": null,
   "metadata": {},
   "outputs": [],
   "source": [
    "# Build url for weather api call. Set units to imperial\n",
    "base_url = \"https://api.openweathermap.org/data/2.5/weather?\"\n",
    "units = \"&units=imperial\"\n",
    "API_KEY = \"&appid=\"+str(weather_api_key)\n",
    "\n",
    "# create lists for data from api responses\n",
    "city_names = []\n",
    "city_lats = []\n",
    "city_lons = []\n",
    "max_temps = []\n",
    "humidities = []\n",
    "cloudies = []\n",
    "wind_spds = []\n",
    "countries = []\n",
    "dates = []\n",
    "\n",
    "# --------- Record Processing Loop ----------\n",
    "for city in cities:\n",
    "    # wait 1 second between each API call so calls/per/minute-limit is not reached\n",
    "    time.sleep(1)\n",
    "\n",
    "    # print process log\n",
    "    print(\"Processing Record \" + str((cities.index(city) + 1)) + \" of \" + str(len(cities)) + \" | \" + city.city_name)\n",
    "    \n",
    "    # build URL for each city\n",
    "    URL = base_url + \"q=\" + city.city_name + \",\" + city.country_code + units + API_KEY\n",
    "    \n",
    "    # HTTP request\n",
    "    response = requests.get(URL)\n",
    "\n",
    "    # checking the status code of the request\n",
    "    if response.status_code == 200:\n",
    "        city_names.append(city.city_name)\n",
    "        countries.append(city.country_code)\n",
    "\n",
    "        # getting data in the json format\n",
    "        data = response.json()\n",
    "        # getting the coord, main, clouds, wind dict blocks\n",
    "        main = data['main']\n",
    "        coord = data['coord']\n",
    "        clouds = data['clouds']\n",
    "        wind = data['wind']\n",
    "        # getting city coordinates\n",
    "        city_lats.append(coord['lat'])\n",
    "        city_lons.append(coord['lon'])\n",
    "        # getting max temperature\n",
    "        max_temps.append(main['temp_max'])\n",
    "        # getting the humidity\n",
    "        humidities.append(main['humidity'])     \n",
    "        # getting cloudiness %\n",
    "        cloudies.append(clouds['all'])\n",
    "        # getting wind speed\n",
    "        wind_spds.append(wind['speed'])\n",
    "        # getting time of data calculation, unix, UTC\n",
    "        dates.append(data['dt'])\n",
    "    else:\n",
    "        # showing the error message\n",
    "        print(\"Error in the HTTP request\")\n",
    "\n",
    "# --------- end ---------"
   ]
  },
  {
   "cell_type": "code",
   "execution_count": null,
   "metadata": {},
   "outputs": [],
   "source": [
    "# create a dictionary from lists that were filled from api calls\n",
    "weather_dict = {\"City\" : city_names, \"Lat\" : city_lats, \"Lng\" : city_lons, \n",
    "\"Max Temps\" : max_temps, \"Humidity\" : humidities, \"Cloudiness\" : cloudies,\n",
    "\"Wind Speed\" : wind_spds, \"Country\" : countries, \"Date\" : dates}\n",
    "\n",
    "# convert dictionary to dataframe\n",
    "weather_df = pd.DataFrame(weather_dict)\n",
    "\n",
    "print(weather_df.head())"
   ]
  },
  {
   "cell_type": "code",
   "execution_count": null,
   "metadata": {},
   "outputs": [],
   "source": [
    "# if there are any cities with humidity > 100, drop them. Otherwise data is clean.\n",
    "if(weather_df.index[weather_df[\"Humidity\"] > 100].empty):\n",
    "    clean_weather_df = weather_df  \n",
    "else:\n",
    "    clean_weather_df = weather_df.drop(\n",
    "        weather_df.index[weather_df[\"Humidity\"] > 100])\n",
    "\n",
    "# export to csv\n",
    "clean_weather_df.to_csv('part1.csv', index=False)"
   ]
  },
  {
   "cell_type": "code",
   "execution_count": null,
   "metadata": {},
   "outputs": [],
   "source": [
    "# make a function to expedite plotting process\n",
    "def scatter_plot(x, y, xlabel, ylabel, title):\n",
    "    plt.scatter(x, y, edgecolors='k')\n",
    "    plt.xlabel(xlabel)\n",
    "    plt.ylabel(ylabel)\n",
    "    plt.title(title)\n",
    "    plt.grid()\n",
    "    plt.show()\n",
    "\n",
    "# scatter plot of City Latitutde vs. Max Temperature\n",
    "scatter_plot(clean_weather_df['Lat'],clean_weather_df['Max Temps'],\n",
    "    \"Latitude\",\"Max Temperature (F)\",\n",
    "    \"City Latitutde vs. Max Temperature (4/30/21)\")\n",
    "\n",
    "#save as a png image\n",
    "plt.savefig(\"MaxTemperatureVsWorldLat.png\")"
   ]
  },
  {
   "source": [
    "### The plot shows a strong correlation between high max temperature and proximity to 0-Latitude or Equator.\n"
   ],
   "cell_type": "markdown",
   "metadata": {}
  },
  {
   "cell_type": "code",
   "execution_count": null,
   "metadata": {},
   "outputs": [],
   "source": [
    "# scatter plot of City Latitutde vs. Humidity\n",
    "scatter_plot(clean_weather_df['Lat'],clean_weather_df['Humidity'],\n",
    "    \"Latitude\",\"Humidity (%)\",\n",
    "    \"City Latitutde vs. Humidity (4/30/21)\")\n",
    "\n",
    "#save as a png image\n",
    "plt.savefig(\"HumidityVsWorldLat.png\")"
   ]
  },
  {
   "source": [
    "### The plot shows the lowest humidity levels concentrated just above the Equator, but otherwise very little correlation between Latitude and humidity.\n"
   ],
   "cell_type": "markdown",
   "metadata": {}
  },
  {
   "cell_type": "code",
   "execution_count": null,
   "metadata": {},
   "outputs": [],
   "source": [
    "# scatter plot of City Latitutde vs. Cloudiness\n",
    "scatter_plot(clean_weather_df['Lat'],clean_weather_df['Cloudiness'],\n",
    "    \"Latitude\",\"Cloudiness (%)\",\n",
    "    \"City Latitutde vs. Cloudiness (4/30/21)\")\n",
    "\n",
    "#save as a png image\n",
    "plt.savefig(\"CloudinessVsWorldLat.png\")"
   ]
  },
  {
   "source": [
    "### The plot shows virtually zero correlation bewteen city Latitude and cloudiness.\n"
   ],
   "cell_type": "markdown",
   "metadata": {}
  },
  {
   "cell_type": "code",
   "execution_count": null,
   "metadata": {},
   "outputs": [],
   "source": [
    "# scatter plot of City Latitutde vs. Wind Speed\n",
    "scatter_plot(clean_weather_df['Lat'],clean_weather_df['Wind Speed'],\n",
    "    \"Latitude\",\"Wind Speed (mph)\",\n",
    "    \"City Latitutde vs. Wind Speed (4/30/21)\")\n",
    "\n",
    "#save as a png image\n",
    "plt.savefig(\"WindSpeedVsWorldLat.png\")"
   ]
  },
  {
   "source": [
    "### The plot shows a lack in high wind speeds at the lowest Latitudes, but ptherwise very little correlation between Latitude and wind speed."
   ],
   "cell_type": "markdown",
   "metadata": {}
  },
  {
   "cell_type": "code",
   "execution_count": null,
   "metadata": {},
   "outputs": [],
   "source": [
    "# DataFrame of clean_weather_df where Northern Hemisphere==True \n",
    "north_weather_df = clean_weather_df.drop(clean_weather_df.index[clean_weather_df['Lat'] < 0])\n",
    "print(north_weather_df.head())\n",
    "\n",
    "# DataFrame of clean_weather_df where Southern Hemisphere==True \n",
    "south_weather_df = clean_weather_df.drop(clean_weather_df.index[clean_weather_df['Lat'] > 0])\n",
    "print(south_weather_df.head())\n"
   ]
  },
  {
   "cell_type": "code",
   "execution_count": null,
   "metadata": {},
   "outputs": [],
   "source": [
    "def scatter_linreg(x, y, xlabel, ylabel, title):\n",
    "    #regression part\n",
    "    slope, intercept, r_value, p_value, std_err = linregress(x,y)\n",
    "    # print r-value\n",
    "    print(\"The r-value is : \" + str(r_value**2))\n",
    "    line = slope*x+intercept\n",
    "    plt.plot(x, line, 'r', label='y={:.2f}x+{:.2f}'.format(slope,intercept))\n",
    "    plt.legend()\n",
    "    scatter_plot(x, y, xlabel, ylabel, title)"
   ]
  },
  {
   "cell_type": "code",
   "execution_count": null,
   "metadata": {},
   "outputs": [],
   "source": []
  }
 ]
}